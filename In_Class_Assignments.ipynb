{
  "nbformat": 4,
  "nbformat_minor": 0,
  "metadata": {
    "colab": {
      "provenance": [],
      "authorship_tag": "ABX9TyPIHH6zfw4FpZvEd9N15T0t",
      "include_colab_link": true
    },
    "kernelspec": {
      "name": "python3",
      "display_name": "Python 3"
    },
    "language_info": {
      "name": "python"
    }
  },
  "cells": [
    {
      "cell_type": "markdown",
      "metadata": {
        "id": "view-in-github",
        "colab_type": "text"
      },
      "source": [
        "<a href=\"https://colab.research.google.com/github/IsaacE222/Isaac/blob/main/In_Class_Assignments.ipynb\" target=\"_parent\"><img src=\"https://colab.research.google.com/assets/colab-badge.svg\" alt=\"Open In Colab\"/></a>"
      ]
    },
    {
      "cell_type": "markdown",
      "source": [
        "Shape Area Calculation"
      ],
      "metadata": {
        "id": "JmQz7zqX6NHT"
      }
    },
    {
      "cell_type": "code",
      "execution_count": null,
      "metadata": {
        "colab": {
          "base_uri": "https://localhost:8080/"
        },
        "id": "4Gy3HuBoyrkA",
        "outputId": "5f5121e1-3b68-4917-d365-9bcd2f962d56"
      },
      "outputs": [
        {
          "output_type": "stream",
          "name": "stdout",
          "text": [
            "244.92000000000002\n"
          ]
        }
      ],
      "source": [
        "r=3\n",
        "h=10\n",
        "pi=3.14\n",
        "SA=(2*pi*r**2)+(2*pi*r*h)\n",
        "print(SA)"
      ]
    },
    {
      "cell_type": "markdown",
      "source": [
        "Rock, Paper, Scissors"
      ],
      "metadata": {
        "id": "n3_5yCZC7fkh"
      }
    },
    {
      "cell_type": "code",
      "execution_count": null,
      "metadata": {
        "colab": {
          "base_uri": "https://localhost:8080/"
        },
        "outputId": "85c6b27c-a17b-4486-e641-414acedf734d",
        "collapsed": true,
        "id": "_TikieQY7am4"
      },
      "outputs": [
        {
          "name": "stdout",
          "output_type": "stream",
          "text": [
            "Would you like to play?Yes\n",
            "Player 1 choose (Rock, Paper, or Scissors): Rock\n",
            "Player 2 choose (Rock, Paper, or Scissors): Rock\n",
            "Tie\n",
            "Would you like to play again?No\n"
          ]
        }
      ],
      "source": [
        "c = input('Would you like to play?')\n",
        "\n",
        "while c == 'Yes':\n",
        "  player_1 = input('Player 1 choose (Rock, Paper, or Scissors): ')\n",
        "  player_2 = input('Player 2 choose (Rock, Paper, or Scissors): ')\n",
        "\n",
        "  if player_1 == player_2:\n",
        "    print('Tie')\n",
        "  elif ((player_1 == 'Rock' and player_2 == 'Scissors') or (player_1 == 'Paper' and player_2 == 'Rock')or (player_1 == 'Scissors' and player_2 == 'Paper')):\n",
        "    print('player_1 Wins')\n",
        "  else:\n",
        "    print('player_2 Wins')\n",
        "  c = input('Would you like to play again?')"
      ]
    },
    {
      "cell_type": "markdown",
      "source": [
        "Numerical Calculator"
      ],
      "metadata": {
        "id": "maP_QStB6eaR"
      }
    },
    {
      "cell_type": "code",
      "execution_count": null,
      "metadata": {
        "colab": {
          "base_uri": "https://localhost:8080/"
        },
        "id": "zsXPlKdt9T1g",
        "outputId": "5c53a406-9303-43fa-d6a0-ca5122ef7c0c"
      },
      "outputs": [
        {
          "output_type": "stream",
          "name": "stdout",
          "text": [
            "Enter #: 2\n",
            "Enter #: 3\n",
            "Choose op: **\n",
            "8.0\n"
          ]
        }
      ],
      "source": [
        "n1 = float(input(\"Enter #: \"))\n",
        "n2 = float(input(\"Enter #: \"))\n",
        "symbol = input(\"Choose op: \")\n",
        "\n",
        "if symbol == '+':\n",
        "  Answer = n1 + n2\n",
        "elif symbol == '-':\n",
        "  Answer = n1 - n2\n",
        "elif symbol == '/':\n",
        "  Answer = n1/n2\n",
        "elif symbol == '*':\n",
        "  Answer = n1*n2\n",
        "else:\n",
        "  Answer = n1**n2\n",
        "\n",
        "print(Answer)\n"
      ]
    },
    {
      "cell_type": "markdown",
      "source": [
        "Parking Garage"
      ],
      "metadata": {
        "id": "88ow-JMU6nvF"
      }
    },
    {
      "cell_type": "code",
      "source": [
        "flat = 5\n",
        "\n",
        "for t in range (1,9):\n",
        "  charge = flat + 2.5 * t\n",
        "  if charge < 10:\n",
        "    charge = 10\n",
        "  elif charge > 20:\n",
        "    charge = 20\n",
        "  print(t, charge)"
      ],
      "metadata": {
        "colab": {
          "base_uri": "https://localhost:8080/"
        },
        "id": "cboWEkwGFWWR",
        "outputId": "6a95d90a-f1d3-404c-9cd5-5cc694ed1672"
      },
      "execution_count": null,
      "outputs": [
        {
          "output_type": "stream",
          "name": "stdout",
          "text": [
            "1 10\n",
            "2 10.0\n",
            "3 12.5\n",
            "4 15.0\n",
            "5 17.5\n",
            "6 20.0\n",
            "7 20\n",
            "8 20\n"
          ]
        }
      ]
    },
    {
      "cell_type": "markdown",
      "source": [
        "Movie Theater"
      ],
      "metadata": {
        "id": "_HaIodq27I4H"
      }
    },
    {
      "cell_type": "code",
      "source": [
        "ticketPrice = 10\n",
        "fixedCost = 200\n",
        "standardAttendees = 20\n",
        "\n",
        "for ad in range(0,201,25):\n",
        "  profit = 10*(standardAttendees + 2 * round(ad ** 0.5,1)) - fixedCost - ad\n",
        "  print(ad,profit)"
      ],
      "metadata": {
        "colab": {
          "base_uri": "https://localhost:8080/"
        },
        "id": "cJQggoDAKun6",
        "outputId": "76827db4-6c8d-478d-d984-c505fd4353b8"
      },
      "execution_count": null,
      "outputs": [
        {
          "output_type": "stream",
          "name": "stdout",
          "text": [
            "0 0.0\n",
            "25 75.0\n",
            "50 92.0\n",
            "75 99.0\n",
            "100 100.0\n",
            "125 99.0\n",
            "150 94.0\n",
            "175 89.0\n",
            "200 82.0\n"
          ]
        }
      ]
    },
    {
      "cell_type": "code",
      "source": [
        "ticketPrice = 10\n",
        "fixedCost = 200\n",
        "standardAttendees = 20\n",
        "\n",
        "ad = 0\n",
        "while ad < 201:\n",
        "  profit = 10 * (standardAttendees + 2 * round(ad ** 0.5)) - fixedCost - ad\n",
        "  ad = ad + 25\n",
        "  print(ad, profit)"
      ],
      "metadata": {
        "colab": {
          "base_uri": "https://localhost:8080/"
        },
        "id": "erbtcEN1R90K",
        "outputId": "f191807e-f6b0-4572-f478-10d6eba1cf5f"
      },
      "execution_count": null,
      "outputs": [
        {
          "output_type": "stream",
          "name": "stdout",
          "text": [
            "25 0\n",
            "50 75\n",
            "75 90\n",
            "100 105\n",
            "125 100\n",
            "150 95\n",
            "175 90\n",
            "200 85\n",
            "225 80\n"
          ]
        }
      ]
    },
    {
      "cell_type": "markdown",
      "source": [],
      "metadata": {
        "id": "ol_ySsXwaflh"
      }
    },
    {
      "cell_type": "code",
      "source": [
        "L = []\n",
        "\n",
        "item = int(input('Give a value: '))\n",
        "while item !=0:\n",
        "  L.append(item)\n",
        "  item = int(input('Give another value: '))\n",
        "print(L)"
      ],
      "metadata": {
        "id": "-R4C_goNagTT"
      },
      "execution_count": null,
      "outputs": []
    },
    {
      "cell_type": "code",
      "source": [
        "def rev(s):\n",
        "  if len(s)==1:\n",
        "    return s\n",
        "  else:\n",
        "    return s[-1] + rev(s[1:-1]) + s[0]\n",
        "\n",
        "rev('Hello')"
      ],
      "metadata": {
        "id": "J17iIVq3ZYQk"
      },
      "execution_count": null,
      "outputs": []
    },
    {
      "cell_type": "code",
      "source": [
        "months= {}\n",
        "\n",
        "names= [\"Jan\", \"Feb\", \"Mar\", \"Apr\", \"May\", \"Jun\", \"Jul\", \"Aug\", \"Sep\", \"Oct\", \"Nov\", \"Dec\"]\n",
        "numbers = [1,2,3,4,5,6,7,8,9,10,11,12]\n",
        "\n",
        "for i in range(len(numbers)):\n",
        "  months[i+1]=names[i]\n",
        "months"
      ],
      "metadata": {
        "colab": {
          "base_uri": "https://localhost:8080/"
        },
        "id": "q4LFPOAm7RtC",
        "outputId": "aa3c561a-9fa4-4ac9-e17f-a5e482f92869"
      },
      "execution_count": null,
      "outputs": [
        {
          "output_type": "execute_result",
          "data": {
            "text/plain": [
              "{1: 'Jan',\n",
              " 2: 'Feb',\n",
              " 3: 'Mar',\n",
              " 4: 'Apr',\n",
              " 5: 'May',\n",
              " 6: 'Jun',\n",
              " 7: 'Jul',\n",
              " 8: 'Aug',\n",
              " 9: 'Sep',\n",
              " 10: 'Oct',\n",
              " 11: 'Nov',\n",
              " 12: 'Dec'}"
            ]
          },
          "metadata": {},
          "execution_count": 1
        }
      ]
    },
    {
      "cell_type": "code",
      "source": [
        "def calcFee(hours, decimals=2):\n",
        "  fee = round (5 + hours * 2.5, decimals)\n",
        "  return fee\n",
        "def displayFee(fee):\n",
        "  print(fee)\n",
        "hours_parked= int(input('Enter Hours Parked:'))\n",
        "f = calcFee(hours_parked)\n",
        "displayFee(f)"
      ],
      "metadata": {
        "colab": {
          "base_uri": "https://localhost:8080/"
        },
        "id": "4MHIhypLAcE0",
        "outputId": "cbcc7aa3-c1f7-4a7d-e6f9-9758ef04686f"
      },
      "execution_count": null,
      "outputs": [
        {
          "output_type": "stream",
          "name": "stdout",
          "text": [
            "Enter Hours Parked:10\n",
            "30.0\n"
          ]
        }
      ]
    },
    {
      "cell_type": "code",
      "source": [
        "def reverse(string):\n",
        "    if len(string) == 1:\n",
        "        return string\n",
        "    else:\n",
        "        return reverse(string[1:])+string[0]\n",
        "print(reverse('Hello'))"
      ],
      "metadata": {
        "colab": {
          "base_uri": "https://localhost:8080/"
        },
        "id": "cWHfjM_iAntm",
        "outputId": "44687db9-b715-493a-d957-c38d41939173"
      },
      "execution_count": null,
      "outputs": [
        {
          "output_type": "stream",
          "name": "stdout",
          "text": [
            "olleH\n"
          ]
        }
      ]
    },
    {
      "cell_type": "code",
      "source": [
        "def rev(s):\n",
        "  if len(s)==1:\n",
        "    return s\n",
        "  else:\n",
        "    return rev(s[1:])+s[0]\n",
        "rev('Halloween')"
      ],
      "metadata": {
        "colab": {
          "base_uri": "https://localhost:8080/",
          "height": 36
        },
        "id": "ZhS24hcSAr8J",
        "outputId": "49c23289-513e-4e27-ab8d-250b164bc955"
      },
      "execution_count": null,
      "outputs": [
        {
          "output_type": "execute_result",
          "data": {
            "text/plain": [
              "'neewollaH'"
            ],
            "application/vnd.google.colaboratory.intrinsic+json": {
              "type": "string"
            }
          },
          "metadata": {},
          "execution_count": 4
        }
      ]
    },
    {
      "cell_type": "code",
      "source": [
        "def quickSort(L):\n",
        "  if len(L)<2:\n",
        "    return L\n",
        "  else:\n",
        "    pivot= L[len(L)//2]\n",
        "    less=[]\n",
        "    equal=[]\n",
        "    larger=[]\n",
        "    for el in L:\n",
        "      if el<pivot:\n",
        "        less.append(el)\n",
        "      elif el==pivot:\n",
        "        equal.append(el)\n",
        "      else:\n",
        "        larger.append(el)\n",
        "    return quickSort(less)+equal+quickSort(larger)\n",
        "    pivot=...\n",
        "    less=[]\n",
        "    equal=[]\n",
        "    larger=[]\n",
        "    for el in L:\n",
        "      if el<pivot:\n",
        "        less.append(el)\n",
        "      elif el==pivot:\n",
        "        equal.append(el)\n",
        "      else:\n",
        "        larger.append(el)\n",
        "    return quickSort(less)+equal+quickSort(larger)\n",
        "print(quickSort([8,2,6,9,1,0]))"
      ],
      "metadata": {
        "colab": {
          "base_uri": "https://localhost:8080/"
        },
        "id": "lYrZtJ-qA0-8",
        "outputId": "01428fca-7b4e-4024-90bd-ff593a225352"
      },
      "execution_count": null,
      "outputs": [
        {
          "output_type": "stream",
          "name": "stdout",
          "text": [
            "[0, 1, 2, 6, 8, 9]\n"
          ]
        }
      ]
    },
    {
      "cell_type": "code",
      "source": [
        "def wAvg(L,w):\n",
        "  if sum(w) != 1:\n",
        "    w= [weight/sum(w) for weight in w]\n",
        "    weighted_average = sum([L[i]*w[i] for i in range(len(L))])\n",
        "  return weighted_average\n",
        "L=[1,2,3]\n",
        "w=[.1,.3,.4]\n",
        "print(wAvg(L,w))"
      ],
      "metadata": {
        "colab": {
          "base_uri": "https://localhost:8080/"
        },
        "id": "jnxEyD2kA4_u",
        "outputId": "3f3fa589-94ae-4eba-a50c-1a1dcd77ef7b"
      },
      "execution_count": null,
      "outputs": [
        {
          "output_type": "stream",
          "name": "stdout",
          "text": [
            "2.375\n"
          ]
        }
      ]
    },
    {
      "cell_type": "code",
      "source": [
        "def wAvg(L,w):\n",
        "  res=[]\n",
        "  try:\n",
        "    for i in range(len(L)):\n",
        "      res.append(L[i]*w[i])\n",
        "    return sum(res)/sum(w)\n",
        "  except ZeroDivisionError:\n",
        "    print(\"Division by zero\")\n",
        "    return []\n",
        "  except TypeError:\n",
        "    print(\"Non-numerical objects found\")\n",
        "    return []\n",
        "  except Exception as e:\n",
        "    print(f'Unknown Error: (e)')\n",
        "    return float('nan')\n",
        "\n",
        "wAvg([1,2,3],[.1,.3,.4])"
      ],
      "metadata": {
        "colab": {
          "base_uri": "https://localhost:8080/"
        },
        "id": "PDIj9eYnA5tt",
        "outputId": "41bcfaf0-9450-4b80-9bbc-9b0dead355b9"
      },
      "execution_count": null,
      "outputs": [
        {
          "output_type": "execute_result",
          "data": {
            "text/plain": [
              "2.375"
            ]
          },
          "metadata": {},
          "execution_count": 8
        }
      ]
    },
    {
      "cell_type": "code",
      "source": [
        "class Student:\n",
        "    def __init__(self, name, number):\n",
        "        self.name = name\n",
        "        self.number = number\n",
        "\n",
        "    def __repr__(self):\n",
        "        return f'Name: {self.name}'\n",
        "student1 = Student(\"James Bond\", \"007\")\n",
        "student2 = Student(\"Clark Kent\", \"333\")\n",
        "\n",
        "print(student1.name)\n",
        "print(student2.name)"
      ],
      "metadata": {
        "colab": {
          "base_uri": "https://localhost:8080/"
        },
        "id": "bFoViQPpBCF0",
        "outputId": "0d0073a2-08f1-4fea-de23-12b31e9e6a31"
      },
      "execution_count": null,
      "outputs": [
        {
          "output_type": "stream",
          "name": "stdout",
          "text": [
            "James Bond\n",
            "Clark Kent\n"
          ]
        }
      ]
    },
    {
      "cell_type": "code",
      "source": [
        "print(student1)"
      ],
      "metadata": {
        "colab": {
          "base_uri": "https://localhost:8080/"
        },
        "id": "hLMLKtzRBIGE",
        "outputId": "d8c817b6-d6cc-4aae-9c61-6be9f9e58d35"
      },
      "execution_count": null,
      "outputs": [
        {
          "output_type": "stream",
          "name": "stdout",
          "text": [
            "Name: James Bond\n"
          ]
        }
      ]
    },
    {
      "cell_type": "code",
      "source": [
        "class Student:\n",
        "    def __init__(self, name, number):\n",
        "        self.name = name\n",
        "        self.number = number\n",
        "        self.courses = []\n",
        "    def enroll(self, course):\n",
        "      if course not in self.courses:\n",
        "        self.courses.append(course)\n",
        "      else:\n",
        "        print(f'You have already enrolled in {course}')\n",
        "    def get_courses(self):\n",
        "      return self.courses"
      ],
      "metadata": {
        "id": "1L-h29y1BLKF"
      },
      "execution_count": null,
      "outputs": []
    },
    {
      "cell_type": "code",
      "source": [
        "s=Student('bob','123')\n",
        "s.enroll('ABC123')\n",
        "s.enroll('ABC555')\n",
        "s.enroll('ABC888')\n",
        "\n",
        "s.get_courses()"
      ],
      "metadata": {
        "colab": {
          "base_uri": "https://localhost:8080/"
        },
        "id": "42UYs4mBBQX4",
        "outputId": "482c952e-4768-46bd-d375-f89c9b998d63"
      },
      "execution_count": null,
      "outputs": [
        {
          "output_type": "execute_result",
          "data": {
            "text/plain": [
              "['ABC123', 'ABC555', 'ABC888']"
            ]
          },
          "metadata": {},
          "execution_count": 14
        }
      ]
    },
    {
      "cell_type": "code",
      "source": [
        "def create_name(first,last):\n",
        "  first=first.capitalize()\n",
        "  last=last.capitalize()\n",
        "  print(first +  \" \"  + last)\n",
        "full_name = create_name('john' , 'smith')"
      ],
      "metadata": {
        "colab": {
          "base_uri": "https://localhost:8080/"
        },
        "id": "MDUFcUcUBhQo",
        "outputId": "081ee96f-8add-4432-c061-9aa60b0e3668"
      },
      "execution_count": null,
      "outputs": [
        {
          "output_type": "stream",
          "name": "stdout",
          "text": [
            "John Smith\n"
          ]
        }
      ]
    }
  ]
}