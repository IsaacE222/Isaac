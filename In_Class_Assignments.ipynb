{
  "nbformat": 4,
  "nbformat_minor": 0,
  "metadata": {
    "colab": {
      "provenance": [],
      "authorship_tag": "ABX9TyN+i1c6rXbqEVDfHhHCF/tO",
      "include_colab_link": true
    },
    "kernelspec": {
      "name": "python3",
      "display_name": "Python 3"
    },
    "language_info": {
      "name": "python"
    }
  },
  "cells": [
    {
      "cell_type": "markdown",
      "metadata": {
        "id": "view-in-github",
        "colab_type": "text"
      },
      "source": [
        "<a href=\"https://colab.research.google.com/github/IsaacE222/Isaac/blob/main/In_Class_Assignments.ipynb\" target=\"_parent\"><img src=\"https://colab.research.google.com/assets/colab-badge.svg\" alt=\"Open In Colab\"/></a>"
      ]
    },
    {
      "cell_type": "code",
      "execution_count": null,
      "metadata": {
        "colab": {
          "base_uri": "https://localhost:8080/"
        },
        "id": "4Gy3HuBoyrkA",
        "outputId": "5f5121e1-3b68-4917-d365-9bcd2f962d56"
      },
      "outputs": [
        {
          "output_type": "stream",
          "name": "stdout",
          "text": [
            "244.92000000000002\n"
          ]
        }
      ],
      "source": [
        "r=3\n",
        "h=10\n",
        "pi=3.14\n",
        "SA=(2*pi*r**2)+(2*pi*r*h)\n",
        "print(SA)"
      ]
    },
    {
      "cell_type": "code",
      "execution_count": null,
      "metadata": {
        "colab": {
          "base_uri": "https://localhost:8080/"
        },
        "collapsed": true,
        "id": "QrjwrMu9SIrm",
        "outputId": "b8c89dc0-61f5-4344-8cd1-25289f922731"
      },
      "outputs": [
        {
          "output_type": "stream",
          "name": "stdout",
          "text": [
            "Player 1 choose (Rock, Paper, or Scissors): Scissors\n",
            "Player 2 choose (Rock, Paper, or Scissors): Rock\n",
            "player_2 Wins\n"
          ]
        }
      ],
      "source": [
        "player_1 = input('Player 1 choose (Rock, Paper, or Scissors): ')\n",
        "player_2 = input('Player 2 choose (Rock, Paper, or Scissors): ')\n",
        "\n",
        "if player_1 == player_2:\n",
        "  print('Tie')\n",
        "elif ((player_1 == 'Rock' and player_2 == 'Scissors') or (player_1 == 'Paper' and player_2 == 'Rock')or (player_1 == 'Scissors' and player_2 == 'Paper')):\n",
        "  print('player_1 Wins')\n",
        "else:\n",
        "  print('player_2 Wins')\n",
        "\n"
      ]
    },
    {
      "cell_type": "code",
      "execution_count": null,
      "metadata": {
        "colab": {
          "base_uri": "https://localhost:8080/"
        },
        "id": "zsXPlKdt9T1g",
        "outputId": "5c53a406-9303-43fa-d6a0-ca5122ef7c0c"
      },
      "outputs": [
        {
          "output_type": "stream",
          "name": "stdout",
          "text": [
            "Enter #: 2\n",
            "Enter #: 3\n",
            "Choose op: **\n",
            "8.0\n"
          ]
        }
      ],
      "source": [
        "n1 = float(input(\"Enter #: \"))\n",
        "n2 = float(input(\"Enter #: \"))\n",
        "symbol = input(\"Choose op: \")\n",
        "\n",
        "if symbol == '+':\n",
        "  Answer = n1 + n2\n",
        "elif symbol == '-':\n",
        "  Answer = n1 - n2\n",
        "elif symbol == '/':\n",
        "  Answer = n1/n2\n",
        "elif symbol == '*':\n",
        "  Answer = n1*n2\n",
        "else:\n",
        "  Answer = n1**n2\n",
        "\n",
        "print(Answer)\n"
      ]
    }
  ]
}