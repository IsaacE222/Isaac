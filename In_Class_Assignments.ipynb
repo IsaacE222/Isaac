{
  "nbformat": 4,
  "nbformat_minor": 0,
  "metadata": {
    "colab": {
      "provenance": [],
      "authorship_tag": "ABX9TyP0xaaMQHTZgCzg2TFT9rOO",
      "include_colab_link": true
    },
    "kernelspec": {
      "name": "python3",
      "display_name": "Python 3"
    },
    "language_info": {
      "name": "python"
    }
  },
  "cells": [
    {
      "cell_type": "markdown",
      "metadata": {
        "id": "view-in-github",
        "colab_type": "text"
      },
      "source": [
        "<a href=\"https://colab.research.google.com/github/IsaacE222/Isaac/blob/main/In_Class_Assignments.ipynb\" target=\"_parent\"><img src=\"https://colab.research.google.com/assets/colab-badge.svg\" alt=\"Open In Colab\"/></a>"
      ]
    },
    {
      "cell_type": "code",
      "execution_count": null,
      "metadata": {
        "colab": {
          "base_uri": "https://localhost:8080/"
        },
        "id": "4Gy3HuBoyrkA",
        "outputId": "5f5121e1-3b68-4917-d365-9bcd2f962d56"
      },
      "outputs": [
        {
          "output_type": "stream",
          "name": "stdout",
          "text": [
            "244.92000000000002\n"
          ]
        }
      ],
      "source": [
        "r=3\n",
        "h=10\n",
        "pi=3.14\n",
        "SA=(2*pi*r**2)+(2*pi*r*h)\n",
        "print(SA)"
      ]
    },
    {
      "cell_type": "code",
      "execution_count": null,
      "metadata": {
        "colab": {
          "base_uri": "https://localhost:8080/"
        },
        "collapsed": true,
        "id": "QrjwrMu9SIrm",
        "outputId": "b8c89dc0-61f5-4344-8cd1-25289f922731"
      },
      "outputs": [
        {
          "output_type": "stream",
          "name": "stdout",
          "text": [
            "Player 1 choose (Rock, Paper, or Scissors): Scissors\n",
            "Player 2 choose (Rock, Paper, or Scissors): Rock\n",
            "player_2 Wins\n"
          ]
        }
      ],
      "source": [
        "player_1 = input('Player 1 choose (Rock, Paper, or Scissors): ')\n",
        "player_2 = input('Player 2 choose (Rock, Paper, or Scissors): ')\n",
        "\n",
        "if player_1 == player_2:\n",
        "  print('Tie')\n",
        "elif ((player_1 == 'Rock' and player_2 == 'Scissors') or (player_1 == 'Paper' and player_2 == 'Rock')or (player_1 == 'Scissors' and player_2 == 'Paper')):\n",
        "  print('player_1 Wins')\n",
        "else:\n",
        "  print('player_2 Wins')\n",
        "\n"
      ]
    },
    {
      "cell_type": "code",
      "execution_count": null,
      "metadata": {
        "colab": {
          "base_uri": "https://localhost:8080/"
        },
        "id": "zsXPlKdt9T1g",
        "outputId": "5c53a406-9303-43fa-d6a0-ca5122ef7c0c"
      },
      "outputs": [
        {
          "output_type": "stream",
          "name": "stdout",
          "text": [
            "Enter #: 2\n",
            "Enter #: 3\n",
            "Choose op: **\n",
            "8.0\n"
          ]
        }
      ],
      "source": [
        "n1 = float(input(\"Enter #: \"))\n",
        "n2 = float(input(\"Enter #: \"))\n",
        "symbol = input(\"Choose op: \")\n",
        "\n",
        "if symbol == '+':\n",
        "  Answer = n1 + n2\n",
        "elif symbol == '-':\n",
        "  Answer = n1 - n2\n",
        "elif symbol == '/':\n",
        "  Answer = n1/n2\n",
        "elif symbol == '*':\n",
        "  Answer = n1*n2\n",
        "else:\n",
        "  Answer = n1**n2\n",
        "\n",
        "print(Answer)\n"
      ]
    },
    {
      "cell_type": "code",
      "source": [
        "flat = 5\n",
        "\n",
        "for t in range (1,9):\n",
        "  charge = flat + 2.5 * t\n",
        "  if charge < 10:\n",
        "    charge = 10\n",
        "  elif charge > 20:\n",
        "    charge = 20\n",
        "  print(t, charge)"
      ],
      "metadata": {
        "colab": {
          "base_uri": "https://localhost:8080/"
        },
        "id": "cboWEkwGFWWR",
        "outputId": "6a95d90a-f1d3-404c-9cd5-5cc694ed1672"
      },
      "execution_count": null,
      "outputs": [
        {
          "output_type": "stream",
          "name": "stdout",
          "text": [
            "1 10\n",
            "2 10.0\n",
            "3 12.5\n",
            "4 15.0\n",
            "5 17.5\n",
            "6 20.0\n",
            "7 20\n",
            "8 20\n"
          ]
        }
      ]
    },
    {
      "cell_type": "code",
      "source": [
        "ticketPrice = 10\n",
        "fixedCost = 200\n",
        "standardAttendees = 20\n",
        "\n",
        "for ad in range(0,201,25):\n",
        "  profit = 10*(standardAttendees + 2 * round(ad ** 0.5,1)) - fixedCost - ad\n",
        "  print(ad,profit)"
      ],
      "metadata": {
        "colab": {
          "base_uri": "https://localhost:8080/"
        },
        "id": "cJQggoDAKun6",
        "outputId": "76827db4-6c8d-478d-d984-c505fd4353b8"
      },
      "execution_count": 3,
      "outputs": [
        {
          "output_type": "stream",
          "name": "stdout",
          "text": [
            "0 0.0\n",
            "25 75.0\n",
            "50 92.0\n",
            "75 99.0\n",
            "100 100.0\n",
            "125 99.0\n",
            "150 94.0\n",
            "175 89.0\n",
            "200 82.0\n"
          ]
        }
      ]
    },
    {
      "cell_type": "code",
      "source": [
        "ticketPrice = 10\n",
        "fixedCost = 200\n",
        "standardAttendees = 20\n",
        "\n",
        "ad = 0\n",
        "while ad < 201:\n",
        "  profit = 10 * (standardAttendees + 2 * round(ad ** 0.5)) - fixedCost - ad\n",
        "  ad = ad + 25\n",
        "  print(ad, profit)"
      ],
      "metadata": {
        "colab": {
          "base_uri": "https://localhost:8080/"
        },
        "id": "erbtcEN1R90K",
        "outputId": "f191807e-f6b0-4572-f478-10d6eba1cf5f"
      },
      "execution_count": 5,
      "outputs": [
        {
          "output_type": "stream",
          "name": "stdout",
          "text": [
            "25 0\n",
            "50 75\n",
            "75 90\n",
            "100 105\n",
            "125 100\n",
            "150 95\n",
            "175 90\n",
            "200 85\n",
            "225 80\n"
          ]
        }
      ]
    }
  ]
}