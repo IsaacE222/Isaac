{
  "nbformat": 4,
  "nbformat_minor": 0,
  "metadata": {
    "colab": {
      "provenance": [],
      "authorship_tag": "ABX9TyM8nQfXYvgYGk6tzTRcVVSj",
      "include_colab_link": true
    },
    "kernelspec": {
      "name": "python3",
      "display_name": "Python 3"
    },
    "language_info": {
      "name": "python"
    }
  },
  "cells": [
    {
      "cell_type": "markdown",
      "metadata": {
        "id": "view-in-github",
        "colab_type": "text"
      },
      "source": [
        "<a href=\"https://colab.research.google.com/github/IsaacE222/Isaac/blob/main/Rock%2C_Paper%2C_Scissors_While_Function.ipynb\" target=\"_parent\"><img src=\"https://colab.research.google.com/assets/colab-badge.svg\" alt=\"Open In Colab\"/></a>"
      ]
    },
    {
      "cell_type": "code",
      "execution_count": 6,
      "metadata": {
        "colab": {
          "base_uri": "https://localhost:8080/"
        },
        "id": "QrjwrMu9SIrm",
        "outputId": "85c6b27c-a17b-4486-e641-414acedf734d"
      },
      "outputs": [
        {
          "name": "stdout",
          "output_type": "stream",
          "text": [
            "Would you like to play?Yes\n",
            "Player 1 choose (Rock, Paper, or Scissors): Rock\n",
            "Player 2 choose (Rock, Paper, or Scissors): Rock\n",
            "Tie\n",
            "Would you like to play again?No\n"
          ]
        }
      ],
      "source": [
        "c = input('Would you like to play?')\n",
        "\n",
        "while c == 'Yes':\n",
        "  player_1 = input('Player 1 choose (Rock, Paper, or Scissors): ')\n",
        "  player_2 = input('Player 2 choose (Rock, Paper, or Scissors): ')\n",
        "\n",
        "  if player_1 == player_2:\n",
        "    print('Tie')\n",
        "  elif ((player_1 == 'Rock' and player_2 == 'Scissors') or (player_1 == 'Paper' and player_2 == 'Rock')or (player_1 == 'Scissors' and player_2 == 'Paper')):\n",
        "    print('player_1 Wins')\n",
        "  else:\n",
        "    print('player_2 Wins')\n",
        "  c = input('Would you like to play again?')"
      ]
    }
  ]
}